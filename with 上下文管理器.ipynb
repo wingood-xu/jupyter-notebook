{
 "cells": [
  {
   "cell_type": "markdown",
   "metadata": {},
   "source": [
    "上下文管理器要实现__enter__和__exit__的特殊方法。\n",
    "\n",
    "__enter__(self)： 进入上下文管理器时调用此方法，其返回值将被放入with-as语句中as说明符指定的变量中。\n",
    "\n",
    "__exit__(self,type,value,tb):离开上下文管理器调用此方法。如果有异常出现，type、value、tb分别为异常的类型、值和追踪信息。如果没有异常，\n",
    "\n",
    "3个参数均设为None。此方法返回值为True或者False，分别指示被引发的异常得到了还是没有得到处理。如果返回False，引发的异常会被传递出上下文。"
   ]
  },
  {
   "cell_type": "code",
   "execution_count": 3,
   "metadata": {},
   "outputs": [
    {
     "name": "stdout",
     "output_type": "stream",
     "text": [
      "文件写入成功\n"
     ]
    }
   ],
   "source": [
    "class OpenFile(object):\n",
    "    def __init__(self,filename,mode):\n",
    "        self.filename = filename\n",
    "        self.mode = mode\n",
    "        \n",
    "    def __enter__(self):\n",
    "        self.f = open(self.filename,self.mode)\n",
    "        return self.f\n",
    "    \n",
    "    def __exit__(self,type,value,tb):\n",
    "        self.f.close()\n",
    "        print('文件写入成功')\n",
    "        return False \n",
    "\n",
    "with OpenFile('with_file','w') as f:\n",
    "    f.write('hello ')\n",
    "    f.write('python')"
   ]
  },
  {
   "cell_type": "markdown",
   "metadata": {},
   "source": [
    "### contextmanager装饰器\n",
    "@contextmanager\n",
    "\n",
    "contextlib模块的contextmanager装饰器可以更方便的实现上下文管理器。\n",
    "\n",
    "任何能够被yield关键词分割成两部分的函数，都能够通过装饰器装饰的上下文管理器来实现。任何在yield之前的内容都可以看做在代码块执行前的操作，\n",
    "\n",
    "而任何yield之后的操作都可以放在exit函数中。"
   ]
  },
  {
   "cell_type": "code",
   "execution_count": 8,
   "metadata": {},
   "outputs": [
    {
     "name": "stdout",
     "output_type": "stream",
     "text": [
      "[1, 2]\n"
     ]
    }
   ],
   "source": [
    "from contextlib import contextmanager\n",
    "\n",
    "@contextmanager\n",
    "def listTrans(alist):\n",
    "    thecopy = list(alist)\n",
    "    yield thecopy\n",
    "    alist[:] = thecopy\n",
    "    \n",
    "alist = []\n",
    "with listTrans(alist) as working:\n",
    "    working.append(1)\n",
    "    working.append(2)\n",
    "    \n",
    "print(alist)"
   ]
  },
  {
   "cell_type": "code",
   "execution_count": 10,
   "metadata": {},
   "outputs": [],
   "source": [
    "with open('with_file','r') as reader,open('write.txt','w') as writer:\n",
    "    writer.write(reader.read())"
   ]
  },
  {
   "cell_type": "code",
   "execution_count": null,
   "metadata": {
    "collapsed": true
   },
   "outputs": [],
   "source": [
    "class Door(object):\n",
    "    def open(self):\n",
    "        print('Door is open')\n",
    "        \n",
    "    def close(self):\n",
    "        print('Door is close')\n",
    "        \n",
    "with contextlib.close"
   ]
  }
 ],
 "metadata": {
  "kernelspec": {
   "display_name": "Python 3",
   "language": "python",
   "name": "python3"
  },
  "language_info": {
   "codemirror_mode": {
    "name": "ipython",
    "version": 3
   },
   "file_extension": ".py",
   "mimetype": "text/x-python",
   "name": "python",
   "nbconvert_exporter": "python",
   "pygments_lexer": "ipython3",
   "version": "3.6.1"
  }
 },
 "nbformat": 4,
 "nbformat_minor": 2
}
